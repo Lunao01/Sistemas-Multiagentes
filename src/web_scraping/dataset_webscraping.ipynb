{
 "cells": [
  {
   "cell_type": "markdown",
   "metadata": {},
   "source": [
    "# POKÉMON DATA WEBSCRAPING - LOADING DATA\n",
    "\n",
    "- The webscraping is carried out from PokéAPI:\n",
    "    - Link: https://pokeapi.co/\n",
    "\n",
    "- You can check the PokéAPI docs section to search all possible trackeable information about pokémons. The pokémon data has JSON format.\n",
    "    - PokéAPI docs section: https://pokeapi.co/docs/v2\n",
    "    - Recommended: Use CTRL + F to search the pokémon attributes."
   ]
  },
  {
   "cell_type": "markdown",
   "metadata": {},
   "source": [
    "- **Imports**"
   ]
  },
  {
   "cell_type": "code",
   "execution_count": 26,
   "metadata": {},
   "outputs": [],
   "source": [
    "import requests\n",
    "import csv\n",
    "import pandas as pd\n",
    "import os"
   ]
  },
  {
   "cell_type": "markdown",
   "metadata": {},
   "source": [
    "- **Method for web scraping information about pokémons**"
   ]
  },
  {
   "cell_type": "code",
   "execution_count": 27,
   "metadata": {},
   "outputs": [],
   "source": [
    "# Base URL of the PokéAPI for Pokémon data\n",
    "base_url = 'https://pokeapi.co/api/v2/pokemon/'\n",
    "\n",
    "# Function to get detailed data for a specific Pokémon by its ID\n",
    "def get_pokemon_info(pokemon_id):\n",
    "    \"\"\"Fetches detailed data for a Pokémon without downloading any images.\"\"\"\n",
    "    # Construct the URL for the Pokémon data\n",
    "    url = f'{base_url}{pokemon_id}'\n",
    "    response = requests.get(url)\n",
    "\n",
    "    if response.status_code != 200:\n",
    "        print(f\"Failed to retrieve data for Pokémon ID {pokemon_id}\")\n",
    "        return None\n",
    "\n",
    "    # Parse the JSON data\n",
    "    data = response.json()\n",
    "\n",
    "    # Get species data from the species URL\n",
    "    species_url = data['species']['url']\n",
    "    species_response = requests.get(species_url)\n",
    "    if species_response.status_code != 200:\n",
    "        print(f\"Failed to retrieve species data from {species_url}\")\n",
    "        return None\n",
    "    species_data = species_response.json()\n",
    "\n",
    "    # Prepare stats as individual columns\n",
    "    stats = {stat['stat']['name']: stat['base_stat'] for stat in data['stats']}\n",
    "\n",
    "    # Fetch evolution details\n",
    "    evolutions = []\n",
    "    evolution_chain_url = species_data.get('evolution_chain', {}).get('url', None)\n",
    "    if evolution_chain_url:\n",
    "        evolution_response = requests.get(evolution_chain_url)\n",
    "        if evolution_response.status_code == 200:\n",
    "            chain = evolution_response.json().get('chain', {})\n",
    "            current_species = species_data['name']\n",
    "            node = chain\n",
    "\n",
    "            # Traverse the evolution chain until we find the current species\n",
    "            while node and node['species']['name'] != current_species:\n",
    "                node = next((evo for evo in node.get('evolves_to', []) if evo['species']['name'] == current_species), None)\n",
    "\n",
    "            # If the species is found, retrieve all evolutions and their levels\n",
    "            if node:\n",
    "                evolutions_data = node.get('evolves_to', [])\n",
    "                for evo in evolutions_data:\n",
    "                    evolution_name = evo['species']['name'].capitalize()\n",
    "                    min_level = next((detail.get('min_level') for detail in evo.get('evolution_details', []) if detail.get('min_level') is not None), None)\n",
    "                    evolutions.append({'name': evolution_name, 'level': min_level})\n",
    "\n",
    "\n",
    "    # Extract the information\n",
    "    pokemon_info = {\n",
    "        # pokemon number in pokédex\n",
    "        'id': data.get('id'),\n",
    "        # name of the pokémon\n",
    "        'name': data.get('name', '').capitalize(),\n",
    "\n",
    "        # base experience points\n",
    "        'base_experience': data.get('base_experience', None),\n",
    "\n",
    "        # height in decimetres\n",
    "        'height': data.get('height', None),\n",
    "\n",
    "        #weight in hectograms\n",
    "        'weight': data.get('weight', None),\n",
    "\n",
    "        # If this Pokémon is the default form \n",
    "        'is_default': data.get('is_default', None),\n",
    "\n",
    "        #order by date of release (similars are grouped together)\n",
    "        'order': data.get('order', None),\n",
    "\n",
    "        #terrain where the pokémon can be found\n",
    "        'habitat': species_data['habitat']['name'] if species_data.get('habitat') else None,\n",
    "\n",
    "        #rate at which the pokémon gains levels.\n",
    "        'growth_rate': species_data['growth_rate']['name'] if species_data.get('growth_rate') else None,\n",
    "\n",
    "        #if it is a legendary pokémon\n",
    "        'is_legendary': species_data.get('is_legendary', False),\n",
    "\n",
    "        #if it is a mythical pokémon\n",
    "        'is_mythical': species_data.get('is_mythical', False),\n",
    "\n",
    "        #chance of the pokémon being femaile (-1: generderless)\n",
    "        'gender_rate': species_data.get('gender_rate', None),\n",
    "\n",
    "        #base capture rate\n",
    "        'capture_rate': species_data.get('capture_rate', None),\n",
    "\n",
    "        #base happiness\n",
    "        'base_happiness': species_data.get('base_happiness', None),\n",
    "\n",
    "        #possible abilities of the pokémon\n",
    "        'abilities': ', '.join([ability['ability']['name'] for ability in data.get('abilities', [])]),\n",
    "\n",
    "        #possible forms of the pokémon\n",
    "        'forms': ', '.join([form['name'] for form in data.get('forms', [])]),\n",
    "\n",
    "        #possible held items of the pokémon\n",
    "        'held_items': bool(data.get('held_items', [])),\n",
    "\n",
    "        #moves that the pokemon can learn\n",
    "        'moves': ', '.join([move['move']['name'] for move in data.get('moves', [])]),\n",
    "\n",
    "        #types of the pokémon\n",
    "        'types': ', '.join([ptype['type']['name'] for ptype in data.get('types', [])]),\n",
    "\n",
    "        #stats of the pokémon: hp, attack, defense, special-attack, special-defense, speed\n",
    "        'hp': stats.get('hp', None),\n",
    "        'attack': stats.get('attack', None),\n",
    "        'defense': stats.get('defense', None),\n",
    "        'special-attack': stats.get('special-attack', None),\n",
    "        'special-defense': stats.get('special-defense', None),\n",
    "        'speed': stats.get('speed', None),\n",
    "        \n",
    "        # evolution details\n",
    "        'name_evolutions': ', '.join([evo['name'] for evo in evolutions]) if evolutions else None,\n",
    "        'level_evolutions': next((evo['level'] for evo in evolutions if evo['level']), None) if evolutions else None\n",
    "    }\n",
    "\n",
    "    return pokemon_info"
   ]
  },
  {
   "cell_type": "markdown",
   "metadata": {},
   "source": [
    "- **Test the get_pokemon_info method for web scraping**"
   ]
  },
  {
   "cell_type": "code",
   "execution_count": 28,
   "metadata": {},
   "outputs": [],
   "source": [
    "# Range of Pokémon IDs to scrape data. The PokéAPI has data for every Pokémon of the official Pokédex (up to 1025 pokémons)\n",
    "start_id = 1\n",
    "end_id = 1025\n",
    "\n",
    "# Fetch Pokémon data and store in a list\n",
    "pokemon_details = []\n",
    "\n",
    "for pokemon_id in range(start_id, end_id + 1):\n",
    "    # Pokemon is being fetched \n",
    "    info = get_pokemon_info(pokemon_id)\n",
    "    \n",
    "    if info:\n",
    "        # Pokemon fetched\n",
    "        pokemon_details.append(info)\n",
    "    else:\n",
    "        print(f\"Failed to retrieve data for Pokémon ID {pokemon_id}\") #Prints for inform the user that the pokemon was not fetched"
   ]
  },
  {
   "cell_type": "markdown",
   "metadata": {},
   "source": [
    "**CSV Creation**\n",
    "- Establish the csv name and its columns. \n",
    "- Write the data to the csv.\n",
    "- Check csv"
   ]
  },
  {
   "cell_type": "code",
   "execution_count": null,
   "metadata": {},
   "outputs": [
    {
     "name": "stdout",
     "output_type": "stream",
     "text": [
      "Data saved to ../dataset/pokemon_dataset.csv\n"
     ]
    }
   ],
   "source": [
    "# Define the CSV file name\n",
    "csv_filename = '../dataset/pokemon_dataset.csv'\n",
    "\n",
    "# Define the column names for the CSV file\n",
    "fieldnames = [\n",
    "    'id', 'name', 'base_experience', 'height', 'weight', 'is_default', 'order', \n",
    "    'habitat', 'growth_rate', 'is_legendary', 'is_mythical', 'gender_rate', \n",
    "    'capture_rate', 'base_happiness', 'abilities', 'forms', 'held_items', 'moves', \n",
    "    'types', 'hp', 'attack', 'defense', 'special-attack', 'special-defense', 'speed', 'name_evolutions', 'level_evolutions'\n",
    "]\n",
    "\n",
    "# Write data to CSV\n",
    "with open(csv_filename, mode='w', newline='') as file:\n",
    "    writer = csv.DictWriter(file, fieldnames=fieldnames)\n",
    "\n",
    "    # Write the header\n",
    "    writer.writeheader()\n",
    "\n",
    "    # Write the data\n",
    "    for pokemon in pokemon_details:\n",
    "        if isinstance(pokemon, dict):\n",
    "            writer.writerow(pokemon)\n",
    "\n",
    "# Success message\n",
    "print(f\"Data saved to {csv_filename}\")"
   ]
  }
 ],
 "metadata": {
  "kernelspec": {
<<<<<<< HEAD:web_scraping/dataset_webscraping.ipynb
   "display_name": ".venv",
=======
   "display_name": "Python 3",
>>>>>>> main:src/web_scraping/dataset_webscraping.ipynb
   "language": "python",
   "name": "python3"
  },
  "language_info": {
   "codemirror_mode": {
    "name": "ipython",
    "version": 3
   },
   "file_extension": ".py",
   "mimetype": "text/x-python",
   "name": "python",
   "nbconvert_exporter": "python",
   "pygments_lexer": "ipython3",
   "version": "3.11.8"
  }
 },
 "nbformat": 4,
 "nbformat_minor": 2
}
